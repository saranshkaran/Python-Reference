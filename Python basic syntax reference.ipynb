{
 "cells": [
  {
   "cell_type": "code",
   "execution_count": 4,
   "id": "85d25422",
   "metadata": {},
   "outputs": [
    {
     "data": {
      "text/plain": [
       "'\\nObject-oriented (supports both functional and structured programming)\\nDynamically and strongly typed\\nWhitespace delimited (Indentation)\\nScripting language which supports large applications.\\nHigh-level dynamic data types and supports dynamic type checking\\nAutomatic garbage collection\\nEasy integration with C, C++, COM, ActiveX, CORBA and Java.\\n'"
      ]
     },
     "execution_count": 4,
     "metadata": {},
     "output_type": "execute_result"
    }
   ],
   "source": [
    "'''\n",
    "Object-oriented (supports both functional and structured programming)\n",
    "Dynamically and strongly typed\n",
    "Whitespace delimited (Indentation)\n",
    "Scripting language which supports large applications.\n",
    "High-level dynamic data types and supports dynamic type checking\n",
    "Automatic garbage collection\n",
    "Easy integration with C, C++, COM, ActiveX, CORBA and Java.\n",
    "'''"
   ]
  },
  {
   "cell_type": "code",
   "execution_count": null,
   "id": "af8fc378",
   "metadata": {},
   "outputs": [],
   "source": []
  },
  {
   "cell_type": "code",
   "execution_count": null,
   "id": "13e752e9",
   "metadata": {},
   "outputs": [],
   "source": []
  },
  {
   "cell_type": "code",
   "execution_count": 11,
   "id": "2b678d5c",
   "metadata": {},
   "outputs": [
    {
     "name": "stdout",
     "output_type": "stream",
     "text": [
      "99\n"
     ]
    }
   ],
   "source": [
    "# https://docs.python.org/3/library/random.html\n",
    "import random\n",
    "random_number = random.randint(1, 100)\n",
    "print(random_number)\n"
   ]
  },
  {
   "cell_type": "code",
   "execution_count": 16,
   "id": "1802859f",
   "metadata": {},
   "outputs": [
    {
     "name": "stdout",
     "output_type": "stream",
     "text": [
      "It is currently 2024-03-11 23:21:15.065233\n"
     ]
    }
   ],
   "source": [
    "#String Intepolation subsitiute to concatenation\n",
    "import datetime\n",
    "print(f'It is currently {datetime.datetime .now()}')"
   ]
  },
  {
   "cell_type": "code",
   "execution_count": 19,
   "id": "8f1bcfc2",
   "metadata": {},
   "outputs": [
    {
     "name": "stdout",
     "output_type": "stream",
     "text": [
      "0: a\n",
      "1: b\n",
      "2: c\n",
      "<enumerate object at 0x0000023F555EE520>\n"
     ]
    }
   ],
   "source": [
    "#Enumerate iterables\n",
    "#https://docs.python.org/3/library/functions.html#enumerate\n",
    "for index, item in enumerate('abc'): print(f'{index}: {item}')\n",
    "\n",
    "obj = enumerate(['Saturday', 'Sunday'])\n",
    "print(obj)"
   ]
  },
  {
   "cell_type": "code",
   "execution_count": null,
   "id": "279ac107",
   "metadata": {},
   "outputs": [],
   "source": []
  },
  {
   "cell_type": "code",
   "execution_count": null,
   "id": "452ef37a",
   "metadata": {},
   "outputs": [],
   "source": []
  },
  {
   "cell_type": "code",
   "execution_count": null,
   "id": "b65cfc30",
   "metadata": {},
   "outputs": [],
   "source": []
  },
  {
   "cell_type": "code",
   "execution_count": null,
   "id": "18ac07e9",
   "metadata": {},
   "outputs": [],
   "source": []
  },
  {
   "cell_type": "code",
   "execution_count": null,
   "id": "b112c557",
   "metadata": {},
   "outputs": [],
   "source": []
  },
  {
   "cell_type": "code",
   "execution_count": null,
   "id": "458b774d",
   "metadata": {},
   "outputs": [],
   "source": []
  },
  {
   "cell_type": "code",
   "execution_count": null,
   "id": "8d4a8681",
   "metadata": {},
   "outputs": [],
   "source": []
  },
  {
   "cell_type": "code",
   "execution_count": null,
   "id": "50641e05",
   "metadata": {},
   "outputs": [],
   "source": []
  },
  {
   "cell_type": "code",
   "execution_count": null,
   "id": "d18fb4aa",
   "metadata": {},
   "outputs": [],
   "source": []
  }
 ],
 "metadata": {
  "kernelspec": {
   "display_name": "Python 3 (ipykernel)",
   "language": "python",
   "name": "python3"
  },
  "language_info": {
   "codemirror_mode": {
    "name": "ipython",
    "version": 3
   },
   "file_extension": ".py",
   "mimetype": "text/x-python",
   "name": "python",
   "nbconvert_exporter": "python",
   "pygments_lexer": "ipython3",
   "version": "3.11.5"
  }
 },
 "nbformat": 4,
 "nbformat_minor": 5
}
